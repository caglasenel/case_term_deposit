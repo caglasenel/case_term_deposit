{
 "cells": [
  {
   "cell_type": "code",
   "execution_count": 248,
   "metadata": {},
   "outputs": [],
   "source": [
    "\n",
    "import pandas as pd\n",
    "import numpy as np\n",
    "import seaborn as sns\n",
    "from sklearn.model_selection import train_test_split\n",
    "from sklearn.model_selection import cross_val_score\n",
    "from xgboost import XGBClassifier\n",
    "from sklearn.ensemble import RandomForestClassifier\n",
    "from sklearn.naive_bayes import MultinomialNB\n",
    "from sklearn.svm import SVC\n",
    "from sklearn.metrics import precision_score, accuracy_score, recall_score, classification_report, confusion_matrix, f1_score\n",
    "from sklearn.model_selection import GridSearchCV\n",
    "import sklearn.metrics as metrics\n",
    "import matplotlib.pyplot as plt\n",
    "from sklearn.ensemble import GradientBoostingClassifier\n",
    "from sklearn.tree import DecisionTreeClassifier\n",
    "\n"
   ]
  },
  {
   "cell_type": "code",
   "execution_count": 195,
   "metadata": {},
   "outputs": [],
   "source": [
    "data=pd.read_csv('term-deposit-marketing-2020.csv')"
   ]
  },
  {
   "cell_type": "code",
   "execution_count": 196,
   "metadata": {},
   "outputs": [
    {
     "data": {
      "text/html": [
       "<div>\n",
       "<style scoped>\n",
       "    .dataframe tbody tr th:only-of-type {\n",
       "        vertical-align: middle;\n",
       "    }\n",
       "\n",
       "    .dataframe tbody tr th {\n",
       "        vertical-align: top;\n",
       "    }\n",
       "\n",
       "    .dataframe thead th {\n",
       "        text-align: right;\n",
       "    }\n",
       "</style>\n",
       "<table border=\"1\" class=\"dataframe\">\n",
       "  <thead>\n",
       "    <tr style=\"text-align: right;\">\n",
       "      <th></th>\n",
       "      <th>age</th>\n",
       "      <th>job</th>\n",
       "      <th>marital</th>\n",
       "      <th>education</th>\n",
       "      <th>default</th>\n",
       "      <th>balance</th>\n",
       "      <th>housing</th>\n",
       "      <th>loan</th>\n",
       "      <th>contact</th>\n",
       "      <th>day</th>\n",
       "      <th>month</th>\n",
       "      <th>duration</th>\n",
       "      <th>campaign</th>\n",
       "      <th>y</th>\n",
       "    </tr>\n",
       "  </thead>\n",
       "  <tbody>\n",
       "    <tr>\n",
       "      <th>0</th>\n",
       "      <td>58</td>\n",
       "      <td>management</td>\n",
       "      <td>married</td>\n",
       "      <td>tertiary</td>\n",
       "      <td>no</td>\n",
       "      <td>2143</td>\n",
       "      <td>yes</td>\n",
       "      <td>no</td>\n",
       "      <td>unknown</td>\n",
       "      <td>5</td>\n",
       "      <td>may</td>\n",
       "      <td>261</td>\n",
       "      <td>1</td>\n",
       "      <td>no</td>\n",
       "    </tr>\n",
       "    <tr>\n",
       "      <th>1</th>\n",
       "      <td>44</td>\n",
       "      <td>technician</td>\n",
       "      <td>single</td>\n",
       "      <td>secondary</td>\n",
       "      <td>no</td>\n",
       "      <td>29</td>\n",
       "      <td>yes</td>\n",
       "      <td>no</td>\n",
       "      <td>unknown</td>\n",
       "      <td>5</td>\n",
       "      <td>may</td>\n",
       "      <td>151</td>\n",
       "      <td>1</td>\n",
       "      <td>no</td>\n",
       "    </tr>\n",
       "    <tr>\n",
       "      <th>2</th>\n",
       "      <td>33</td>\n",
       "      <td>entrepreneur</td>\n",
       "      <td>married</td>\n",
       "      <td>secondary</td>\n",
       "      <td>no</td>\n",
       "      <td>2</td>\n",
       "      <td>yes</td>\n",
       "      <td>yes</td>\n",
       "      <td>unknown</td>\n",
       "      <td>5</td>\n",
       "      <td>may</td>\n",
       "      <td>76</td>\n",
       "      <td>1</td>\n",
       "      <td>no</td>\n",
       "    </tr>\n",
       "    <tr>\n",
       "      <th>3</th>\n",
       "      <td>47</td>\n",
       "      <td>blue-collar</td>\n",
       "      <td>married</td>\n",
       "      <td>unknown</td>\n",
       "      <td>no</td>\n",
       "      <td>1506</td>\n",
       "      <td>yes</td>\n",
       "      <td>no</td>\n",
       "      <td>unknown</td>\n",
       "      <td>5</td>\n",
       "      <td>may</td>\n",
       "      <td>92</td>\n",
       "      <td>1</td>\n",
       "      <td>no</td>\n",
       "    </tr>\n",
       "    <tr>\n",
       "      <th>4</th>\n",
       "      <td>33</td>\n",
       "      <td>unknown</td>\n",
       "      <td>single</td>\n",
       "      <td>unknown</td>\n",
       "      <td>no</td>\n",
       "      <td>1</td>\n",
       "      <td>no</td>\n",
       "      <td>no</td>\n",
       "      <td>unknown</td>\n",
       "      <td>5</td>\n",
       "      <td>may</td>\n",
       "      <td>198</td>\n",
       "      <td>1</td>\n",
       "      <td>no</td>\n",
       "    </tr>\n",
       "  </tbody>\n",
       "</table>\n",
       "</div>"
      ],
      "text/plain": [
       "   age           job  marital  education default  balance housing loan  \\\n",
       "0   58    management  married   tertiary      no     2143     yes   no   \n",
       "1   44    technician   single  secondary      no       29     yes   no   \n",
       "2   33  entrepreneur  married  secondary      no        2     yes  yes   \n",
       "3   47   blue-collar  married    unknown      no     1506     yes   no   \n",
       "4   33       unknown   single    unknown      no        1      no   no   \n",
       "\n",
       "   contact  day month  duration  campaign   y  \n",
       "0  unknown    5   may       261         1  no  \n",
       "1  unknown    5   may       151         1  no  \n",
       "2  unknown    5   may        76         1  no  \n",
       "3  unknown    5   may        92         1  no  \n",
       "4  unknown    5   may       198         1  no  "
      ]
     },
     "execution_count": 196,
     "metadata": {},
     "output_type": "execute_result"
    }
   ],
   "source": [
    "data.head()"
   ]
  },
  {
   "cell_type": "code",
   "execution_count": 197,
   "metadata": {},
   "outputs": [
    {
     "data": {
      "text/html": [
       "<div>\n",
       "<style scoped>\n",
       "    .dataframe tbody tr th:only-of-type {\n",
       "        vertical-align: middle;\n",
       "    }\n",
       "\n",
       "    .dataframe tbody tr th {\n",
       "        vertical-align: top;\n",
       "    }\n",
       "\n",
       "    .dataframe thead th {\n",
       "        text-align: right;\n",
       "    }\n",
       "</style>\n",
       "<table border=\"1\" class=\"dataframe\">\n",
       "  <thead>\n",
       "    <tr style=\"text-align: right;\">\n",
       "      <th></th>\n",
       "      <th>age</th>\n",
       "      <th>balance</th>\n",
       "      <th>day</th>\n",
       "      <th>duration</th>\n",
       "      <th>campaign</th>\n",
       "    </tr>\n",
       "  </thead>\n",
       "  <tbody>\n",
       "    <tr>\n",
       "      <th>count</th>\n",
       "      <td>40000.000000</td>\n",
       "      <td>40000.000000</td>\n",
       "      <td>40000.000000</td>\n",
       "      <td>40000.000000</td>\n",
       "      <td>40000.000000</td>\n",
       "    </tr>\n",
       "    <tr>\n",
       "      <th>mean</th>\n",
       "      <td>40.544600</td>\n",
       "      <td>1274.277550</td>\n",
       "      <td>16.017225</td>\n",
       "      <td>254.824300</td>\n",
       "      <td>2.882175</td>\n",
       "    </tr>\n",
       "    <tr>\n",
       "      <th>std</th>\n",
       "      <td>9.641776</td>\n",
       "      <td>2903.769716</td>\n",
       "      <td>8.278127</td>\n",
       "      <td>259.366498</td>\n",
       "      <td>3.239051</td>\n",
       "    </tr>\n",
       "    <tr>\n",
       "      <th>min</th>\n",
       "      <td>19.000000</td>\n",
       "      <td>-8019.000000</td>\n",
       "      <td>1.000000</td>\n",
       "      <td>0.000000</td>\n",
       "      <td>1.000000</td>\n",
       "    </tr>\n",
       "    <tr>\n",
       "      <th>25%</th>\n",
       "      <td>33.000000</td>\n",
       "      <td>54.000000</td>\n",
       "      <td>8.000000</td>\n",
       "      <td>100.000000</td>\n",
       "      <td>1.000000</td>\n",
       "    </tr>\n",
       "    <tr>\n",
       "      <th>50%</th>\n",
       "      <td>39.000000</td>\n",
       "      <td>407.000000</td>\n",
       "      <td>17.000000</td>\n",
       "      <td>175.000000</td>\n",
       "      <td>2.000000</td>\n",
       "    </tr>\n",
       "    <tr>\n",
       "      <th>75%</th>\n",
       "      <td>48.000000</td>\n",
       "      <td>1319.000000</td>\n",
       "      <td>21.000000</td>\n",
       "      <td>313.000000</td>\n",
       "      <td>3.000000</td>\n",
       "    </tr>\n",
       "    <tr>\n",
       "      <th>max</th>\n",
       "      <td>95.000000</td>\n",
       "      <td>102127.000000</td>\n",
       "      <td>31.000000</td>\n",
       "      <td>4918.000000</td>\n",
       "      <td>63.000000</td>\n",
       "    </tr>\n",
       "  </tbody>\n",
       "</table>\n",
       "</div>"
      ],
      "text/plain": [
       "                age        balance           day      duration      campaign\n",
       "count  40000.000000   40000.000000  40000.000000  40000.000000  40000.000000\n",
       "mean      40.544600    1274.277550     16.017225    254.824300      2.882175\n",
       "std        9.641776    2903.769716      8.278127    259.366498      3.239051\n",
       "min       19.000000   -8019.000000      1.000000      0.000000      1.000000\n",
       "25%       33.000000      54.000000      8.000000    100.000000      1.000000\n",
       "50%       39.000000     407.000000     17.000000    175.000000      2.000000\n",
       "75%       48.000000    1319.000000     21.000000    313.000000      3.000000\n",
       "max       95.000000  102127.000000     31.000000   4918.000000     63.000000"
      ]
     },
     "execution_count": 197,
     "metadata": {},
     "output_type": "execute_result"
    }
   ],
   "source": [
    "data.describe()"
   ]
  },
  {
   "cell_type": "code",
   "execution_count": null,
   "metadata": {},
   "outputs": [],
   "source": []
  },
  {
   "cell_type": "code",
   "execution_count": 198,
   "metadata": {},
   "outputs": [
    {
     "data": {
      "text/plain": [
       "age          0\n",
       "job          0\n",
       "marital      0\n",
       "education    0\n",
       "default      0\n",
       "balance      0\n",
       "housing      0\n",
       "loan         0\n",
       "contact      0\n",
       "day          0\n",
       "month        0\n",
       "duration     0\n",
       "campaign     0\n",
       "y            0\n",
       "dtype: int64"
      ]
     },
     "execution_count": 198,
     "metadata": {},
     "output_type": "execute_result"
    }
   ],
   "source": [
    "data.isnull().sum()"
   ]
  },
  {
   "cell_type": "code",
   "execution_count": 199,
   "metadata": {},
   "outputs": [],
   "source": [
    "data['y']= np.where(data.y=='yes',1,0)"
   ]
  },
  {
   "cell_type": "code",
   "execution_count": 200,
   "metadata": {},
   "outputs": [
    {
     "data": {
      "text/html": [
       "<div>\n",
       "<style scoped>\n",
       "    .dataframe tbody tr th:only-of-type {\n",
       "        vertical-align: middle;\n",
       "    }\n",
       "\n",
       "    .dataframe tbody tr th {\n",
       "        vertical-align: top;\n",
       "    }\n",
       "\n",
       "    .dataframe thead th {\n",
       "        text-align: right;\n",
       "    }\n",
       "</style>\n",
       "<table border=\"1\" class=\"dataframe\">\n",
       "  <thead>\n",
       "    <tr style=\"text-align: right;\">\n",
       "      <th></th>\n",
       "      <th>age</th>\n",
       "      <th>job</th>\n",
       "      <th>marital</th>\n",
       "      <th>education</th>\n",
       "      <th>default</th>\n",
       "      <th>balance</th>\n",
       "      <th>housing</th>\n",
       "      <th>loan</th>\n",
       "      <th>contact</th>\n",
       "      <th>day</th>\n",
       "      <th>month</th>\n",
       "      <th>duration</th>\n",
       "      <th>campaign</th>\n",
       "      <th>y</th>\n",
       "    </tr>\n",
       "  </thead>\n",
       "  <tbody>\n",
       "    <tr>\n",
       "      <th>0</th>\n",
       "      <td>58</td>\n",
       "      <td>management</td>\n",
       "      <td>married</td>\n",
       "      <td>tertiary</td>\n",
       "      <td>no</td>\n",
       "      <td>2143</td>\n",
       "      <td>yes</td>\n",
       "      <td>no</td>\n",
       "      <td>unknown</td>\n",
       "      <td>5</td>\n",
       "      <td>may</td>\n",
       "      <td>261</td>\n",
       "      <td>1</td>\n",
       "      <td>0</td>\n",
       "    </tr>\n",
       "    <tr>\n",
       "      <th>1</th>\n",
       "      <td>44</td>\n",
       "      <td>technician</td>\n",
       "      <td>single</td>\n",
       "      <td>secondary</td>\n",
       "      <td>no</td>\n",
       "      <td>29</td>\n",
       "      <td>yes</td>\n",
       "      <td>no</td>\n",
       "      <td>unknown</td>\n",
       "      <td>5</td>\n",
       "      <td>may</td>\n",
       "      <td>151</td>\n",
       "      <td>1</td>\n",
       "      <td>0</td>\n",
       "    </tr>\n",
       "    <tr>\n",
       "      <th>2</th>\n",
       "      <td>33</td>\n",
       "      <td>entrepreneur</td>\n",
       "      <td>married</td>\n",
       "      <td>secondary</td>\n",
       "      <td>no</td>\n",
       "      <td>2</td>\n",
       "      <td>yes</td>\n",
       "      <td>yes</td>\n",
       "      <td>unknown</td>\n",
       "      <td>5</td>\n",
       "      <td>may</td>\n",
       "      <td>76</td>\n",
       "      <td>1</td>\n",
       "      <td>0</td>\n",
       "    </tr>\n",
       "    <tr>\n",
       "      <th>3</th>\n",
       "      <td>47</td>\n",
       "      <td>blue-collar</td>\n",
       "      <td>married</td>\n",
       "      <td>unknown</td>\n",
       "      <td>no</td>\n",
       "      <td>1506</td>\n",
       "      <td>yes</td>\n",
       "      <td>no</td>\n",
       "      <td>unknown</td>\n",
       "      <td>5</td>\n",
       "      <td>may</td>\n",
       "      <td>92</td>\n",
       "      <td>1</td>\n",
       "      <td>0</td>\n",
       "    </tr>\n",
       "    <tr>\n",
       "      <th>4</th>\n",
       "      <td>33</td>\n",
       "      <td>unknown</td>\n",
       "      <td>single</td>\n",
       "      <td>unknown</td>\n",
       "      <td>no</td>\n",
       "      <td>1</td>\n",
       "      <td>no</td>\n",
       "      <td>no</td>\n",
       "      <td>unknown</td>\n",
       "      <td>5</td>\n",
       "      <td>may</td>\n",
       "      <td>198</td>\n",
       "      <td>1</td>\n",
       "      <td>0</td>\n",
       "    </tr>\n",
       "  </tbody>\n",
       "</table>\n",
       "</div>"
      ],
      "text/plain": [
       "   age           job  marital  education default  balance housing loan  \\\n",
       "0   58    management  married   tertiary      no     2143     yes   no   \n",
       "1   44    technician   single  secondary      no       29     yes   no   \n",
       "2   33  entrepreneur  married  secondary      no        2     yes  yes   \n",
       "3   47   blue-collar  married    unknown      no     1506     yes   no   \n",
       "4   33       unknown   single    unknown      no        1      no   no   \n",
       "\n",
       "   contact  day month  duration  campaign  y  \n",
       "0  unknown    5   may       261         1  0  \n",
       "1  unknown    5   may       151         1  0  \n",
       "2  unknown    5   may        76         1  0  \n",
       "3  unknown    5   may        92         1  0  \n",
       "4  unknown    5   may       198         1  0  "
      ]
     },
     "execution_count": 200,
     "metadata": {},
     "output_type": "execute_result"
    }
   ],
   "source": [
    "data.head()"
   ]
  },
  {
   "cell_type": "code",
   "execution_count": 201,
   "metadata": {},
   "outputs": [],
   "source": [
    "obj_col = data.select_dtypes(include=['object']).columns\n",
    "df_dummies = pd.get_dummies(data[obj_col])\n",
    "data_with_dummies = pd.concat([data, df_dummies], axis=1)\n",
    "data_with_dummies =data_with_dummies.drop(obj_col, axis=1)\n"
   ]
  },
  {
   "cell_type": "code",
   "execution_count": 202,
   "metadata": {},
   "outputs": [
    {
     "data": {
      "image/png": "[encoded data removed]",
      "text/plain": [
       "<Figure size 216x576 with 2 Axes>"
      ]
     },
     "metadata": {
      "needs_background": "light"
     },
     "output_type": "display_data"
    }
   ],
   "source": [
    "correlations = data_with_dummies.corrwith(data_with_dummies['y']).iloc[:-1].to_frame()\n",
    "correlations['Abs Corr'] = correlations[0].abs()\n",
    "sorted_correlations = correlations.sort_values('Abs Corr', ascending=False)['Abs Corr']\n",
    "fig, ax = plt.subplots(figsize=(3,8))\n",
    "sns.heatmap(sorted_correlations.to_frame()[sorted_correlations>=.1], cmap='coolwarm', annot=True, vmin=-1, vmax=1, ax=ax);"
   ]
  },
  {
   "cell_type": "code",
   "execution_count": 203,
   "metadata": {},
   "outputs": [
    {
     "name": "stdout",
     "output_type": "stream",
     "text": [
      "There is 11 strongly correlated values with target:\n",
      "y                   1.000000\n",
      "duration            0.461169\n",
      "month_mar           0.128125\n",
      "month_apr           0.097450\n",
      "month_oct           0.093298\n",
      "contact_cellular    0.085433\n",
      "housing_no          0.054336\n",
      "marital_single      0.051721\n",
      "housing_yes        -0.054336\n",
      "marital_married    -0.056863\n",
      "contact_unknown    -0.088408\n",
      "Name: y, dtype: float64\n"
     ]
    }
   ],
   "source": [
    "df_num_corr = data_with_dummies.corr()['y']\n",
    "features_list = df_num_corr[abs(df_num_corr) > 0.05].sort_values(ascending=False)\n",
    "print(\"There is {} strongly correlated values with target:\\n{}\".format(len(features_list),features_list))"
   ]
  },
  {
   "cell_type": "code",
   "execution_count": 208,
   "metadata": {},
   "outputs": [],
   "source": [
    "def get_model_results( y_test, pred): \n",
    "    acc = accuracy_score(y_test, pred, normalize=True)\n",
    "    print(' Model Accuracy:%.2f'%acc)\n",
    "    print ('\\n classification report :\\n')\n",
    "    print(classification_report(y_test, pred))\n",
    "    print('f1_score:'+str(f1_score(y_test, pred)))\n",
    "    print('\\n precision:'+str(precision_score(y_test, pred)))\n",
    "    print('\\n recall:'+str(recall_score(y_test, pred)))\n",
    "    print ('\\n confussion matrix:\\n',confusion_matrix(y_test, pred))"
   ]
  },
  {
   "cell_type": "code",
   "execution_count": 241,
   "metadata": {},
   "outputs": [],
   "source": [
    "\n",
    "X_train, X_test, y_train, y_test = train_test_split(data_with_dummies[features_list.index].drop('y', axis=1), data_with_dummies.y, test_size=0.3, random_state=0)"
   ]
  },
  {
   "cell_type": "code",
   "execution_count": 210,
   "metadata": {},
   "outputs": [
    {
     "name": "stdout",
     "output_type": "stream",
     "text": [
      " Model Accuracy:0.94\n",
      "\n",
      " classification report :\n",
      "\n",
      "              precision    recall  f1-score   support\n",
      "\n",
      "           0       0.95      0.98      0.97     11152\n",
      "           1       0.58      0.31      0.40       848\n",
      "\n",
      "    accuracy                           0.94     12000\n",
      "   macro avg       0.76      0.65      0.68     12000\n",
      "weighted avg       0.92      0.94      0.93     12000\n",
      "\n",
      "f1_score:0.40399385560675877\n",
      "\n",
      " precision:0.579295154185022\n",
      "\n",
      " recall:0.31014150943396224\n",
      "\n",
      " confussion matrix:\n",
      " [[10961   191]\n",
      " [  585   263]]\n"
     ]
    }
   ],
   "source": [
    "classifier=XGBClassifier()\n",
    "classifier.fit(X_train, y_train)\n",
    "pred = classifier.predict(X_test)\n",
    "get_model_results(y_test, pred)\n"
   ]
  },
  {
   "cell_type": "code",
   "execution_count": 174,
   "metadata": {},
   "outputs": [],
   "source": [
    "# print(classifier.feature_importances_)"
   ]
  },
  {
   "cell_type": "markdown",
   "metadata": {},
   "source": [
    "#### results above is taken on unbalanced data. Accuracy:0.94 is not important cause recall and precision is  low. Model tends to predict that label is 1 as 0 because of its being unbalanced.We can also see that from FN value(585 among 848) and TN value on confusion matrix. So we obtained high Accuracy but it is not acceptible.Resampling method on trainset is needed. In addition, cross validation results below show that model has high variance, results are changable."
   ]
  },
  {
   "cell_type": "markdown",
   "metadata": {},
   "source": [
    "#### cv=5 CROSS VALIDAION RESULTS"
   ]
  },
  {
   "cell_type": "code",
   "execution_count": 211,
   "metadata": {},
   "outputs": [
    {
     "name": "stdout",
     "output_type": "stream",
     "text": [
      "F1 Score cross-validtion results \n",
      "\n",
      "[0.00344828 0.0295203  0.00472069 0.02860286 0.2064552 ]\n"
     ]
    }
   ],
   "source": [
    "classifier= XGBClassifier()\n",
    "#print(str(cross_val_score(pipeline, X_all, y_all, cv=5, scoring='f1')))\n",
    "print('F1 Score cross-validtion results \\n')\n",
    "print(cross_val_score(classifier, data_with_dummies.drop('y', axis=1), data_with_dummies.y, cv=5, scoring='f1'))"
   ]
  },
  {
   "cell_type": "code",
   "execution_count": 212,
   "metadata": {},
   "outputs": [
    {
     "name": "stdout",
     "output_type": "stream",
     "text": [
      "Accuracy cross-validtion results \n",
      "\n",
      "[0.92775  0.737    0.841875 0.227375 0.6435  ]\n"
     ]
    }
   ],
   "source": [
    "classifier= XGBClassifier()\n",
    "#print(str(cross_val_score(pipeline, X_all, y_all, cv=5, scoring='f1')))\n",
    "print('Accuracy cross-validtion results \\n')\n",
    "print(cross_val_score(classifier, data_with_dummies.drop('y', axis=1), data_with_dummies.y, cv=5, scoring='accuracy'))"
   ]
  },
  {
   "cell_type": "code",
   "execution_count": 213,
   "metadata": {},
   "outputs": [
    {
     "data": {
      "image/png": "[encoded data removed]",
      "text/plain": [
       "<Figure size 432x288 with 1 Axes>"
      ]
     },
     "metadata": {
      "needs_background": "light"
     },
     "output_type": "display_data"
    }
   ],
   "source": [
    "ax = sns.countplot('y',data=data_with_dummies, color='blue')\n"
   ]
  },
  {
   "cell_type": "markdown",
   "metadata": {},
   "source": [
    "## OVERSAMPLING METHOD ON TRAINSET"
   ]
  },
  {
   "cell_type": "code",
   "execution_count": 242,
   "metadata": {},
   "outputs": [
    {
     "name": "stdout",
     "output_type": "stream",
     "text": [
      "cnt0 :25952     cnt1: 2048\n"
     ]
    }
   ],
   "source": [
    "train= pd.concat([X_train, y_train], axis=1)\n",
    "cnt_0, cnt_1 = train.y.value_counts()\n",
    "print('cnt0 :'+str(cnt_0)+ '     cnt1: '+str(cnt_1))\n",
    "df_class_0 = train[train['y'] == 0]\n",
    "df_class_1 = train[train['y'] == 1]\n"
   ]
  },
  {
   "cell_type": "code",
   "execution_count": 231,
   "metadata": {},
   "outputs": [],
   "source": []
  },
  {
   "cell_type": "code",
   "execution_count": 243,
   "metadata": {},
   "outputs": [],
   "source": [
    "df_class_1_over = df_class_1.sample(cnt_0, replace=True)\n",
    "df_over = pd.concat([df_class_0, df_class_1_over], axis=0)\n",
    "df_over =df_over.reset_index().drop('index',axis=1)\n",
    "X_train=df_over.drop('y',axis=1)\n",
    "y_train=df_over['y']\n",
    "\n",
    "\n",
    "\n",
    "\n"
   ]
  },
  {
   "cell_type": "code",
   "execution_count": 244,
   "metadata": {},
   "outputs": [],
   "source": [
    "classifier=XGBClassifier()\n",
    "classifier.fit(X_train, y_train)\n",
    "pred = classifier.predict(X_test)"
   ]
  },
  {
   "cell_type": "code",
   "execution_count": 245,
   "metadata": {},
   "outputs": [
    {
     "name": "stdout",
     "output_type": "stream",
     "text": [
      " Model Accuracy:0.86\n",
      "\n",
      " classification report :\n",
      "\n",
      "              precision    recall  f1-score   support\n",
      "\n",
      "           0       0.98      0.86      0.92     11152\n",
      "           1       0.31      0.82      0.45       848\n",
      "\n",
      "    accuracy                           0.86     12000\n",
      "   macro avg       0.65      0.84      0.68     12000\n",
      "weighted avg       0.94      0.86      0.89     12000\n",
      "\n",
      "f1_score:0.44995172191824917\n",
      "\n",
      " precision:0.3094289508632138\n",
      "\n",
      " recall:0.8242924528301887\n",
      "\n",
      " confussion matrix:\n",
      " [[9592 1560]\n",
      " [ 149  699]]\n"
     ]
    }
   ],
   "source": [
    "get_model_results(y_test, pred)"
   ]
  },
  {
   "cell_type": "markdown",
   "metadata": {},
   "source": [
    "#### As a result, after resampling, TN value decreased, FP value increased. at least we lowered the model's tendency to predict 0 because of the unbalacity of the data. We need high precision and recall, but in the model, precision is lower than recall. I mean, while recall(the correct estimation rate of customer's buying) is 0.824, precision (How many of customers we predict bought are really bought) is 0.309. F-score helps measure precision and recall at the same time. It uses harmonic averages rather than arithmetic averages, punishing excessive values more.It seems that F1 score is increased after resampling but still low."
   ]
  },
  {
   "cell_type": "markdown",
   "metadata": {},
   "source": [
    "## BEST ALGORITHM SLECTION"
   ]
  },
  {
   "cell_type": "code",
   "execution_count": 250,
   "metadata": {},
   "outputs": [
    {
     "name": "stdout",
     "output_type": "stream",
     "text": [
      "XGBClassifier(base_score=0.5, booster='gbtree', colsample_bylevel=1,\n",
      "              colsample_bytree=1, gamma=0, learning_rate=0.1, max_delta_step=0,\n",
      "              max_depth=3, min_child_weight=1, missing=None, n_estimators=100,\n",
      "              n_jobs=1, nthread=None, objective='binary:logistic',\n",
      "              random_state=0, reg_alpha=0, reg_lambda=1, scale_pos_weight=1,\n",
      "              seed=None, silent=True, subsample=1): \n",
      "\n",
      " Model Accuracy:0.86\n",
      "\n",
      " classification report :\n",
      "\n",
      "              precision    recall  f1-score   support\n",
      "\n",
      "           0       0.98      0.86      0.92     11152\n",
      "           1       0.31      0.82      0.45       848\n",
      "\n",
      "    accuracy                           0.86     12000\n",
      "   macro avg       0.65      0.84      0.68     12000\n",
      "weighted avg       0.94      0.86      0.89     12000\n",
      "\n",
      "f1_score:0.44995172191824917\n",
      "\n",
      " precision:0.3094289508632138\n",
      "\n",
      " recall:0.8242924528301887\n",
      "\n",
      " confussion matrix:\n",
      " [[9592 1560]\n",
      " [ 149  699]]\n",
      "GradientBoostingClassifier(ccp_alpha=0.0, criterion='friedman_mse', init=None,\n",
      "                           learning_rate=0.1, loss='deviance', max_depth=3,\n",
      "                           max_features=None, max_leaf_nodes=None,\n",
      "                           min_impurity_decrease=0.0, min_impurity_split=None,\n",
      "                           min_samples_leaf=1, min_samples_split=2,\n",
      "                           min_weight_fraction_leaf=0.0, n_estimators=100,\n",
      "                           n_iter_no_change=None, presort='deprecated',\n",
      "                           random_state=None, subsample=1.0, tol=0.0001,\n",
      "                           validation_fraction=0.1, verbose=0,\n",
      "                           warm_start=False): \n",
      "\n",
      " Model Accuracy:0.86\n",
      "\n",
      " classification report :\n",
      "\n",
      "              precision    recall  f1-score   support\n",
      "\n",
      "           0       0.98      0.86      0.92     11152\n",
      "           1       0.31      0.83      0.45       848\n",
      "\n",
      "    accuracy                           0.86     12000\n",
      "   macro avg       0.65      0.84      0.68     12000\n",
      "weighted avg       0.94      0.86      0.89     12000\n",
      "\n",
      "f1_score:0.45059542967492755\n",
      "\n",
      " precision:0.3098716246126605\n",
      "\n",
      " recall:0.8254716981132075\n",
      "\n",
      " confussion matrix:\n",
      " [[9593 1559]\n",
      " [ 148  700]]\n",
      "RandomForestClassifier(bootstrap=True, ccp_alpha=0.0, class_weight=None,\n",
      "                       criterion='gini', max_depth=None, max_features='auto',\n",
      "                       max_leaf_nodes=None, max_samples=None,\n",
      "                       min_impurity_decrease=0.0, min_impurity_split=None,\n",
      "                       min_samples_leaf=1, min_samples_split=2,\n",
      "                       min_weight_fraction_leaf=0.0, n_estimators=100,\n",
      "                       n_jobs=None, oob_score=False, random_state=None,\n",
      "                       verbose=0, warm_start=False): \n",
      "\n",
      " Model Accuracy:0.87\n",
      "\n",
      " classification report :\n",
      "\n",
      "              precision    recall  f1-score   support\n",
      "\n",
      "           0       0.95      0.91      0.93     11152\n",
      "           1       0.25      0.42      0.32       848\n",
      "\n",
      "    accuracy                           0.87     12000\n",
      "   macro avg       0.60      0.66      0.62     12000\n",
      "weighted avg       0.90      0.87      0.89     12000\n",
      "\n",
      "f1_score:0.31522707034728403\n",
      "\n",
      " precision:0.2532188841201717\n",
      "\n",
      " recall:0.41745283018867924\n",
      "\n",
      " confussion matrix:\n",
      " [[10108  1044]\n",
      " [  494   354]]\n",
      "DecisionTreeClassifier(ccp_alpha=0.0, class_weight=None, criterion='gini',\n",
      "                       max_depth=None, max_features=None, max_leaf_nodes=None,\n",
      "                       min_impurity_decrease=0.0, min_impurity_split=None,\n",
      "                       min_samples_leaf=1, min_samples_split=2,\n",
      "                       min_weight_fraction_leaf=0.0, presort='deprecated',\n",
      "                       random_state=None, splitter='best'): \n",
      "\n",
      " Model Accuracy:0.87\n",
      "\n",
      " classification report :\n",
      "\n",
      "              precision    recall  f1-score   support\n",
      "\n",
      "           0       0.95      0.90      0.93     11152\n",
      "           1       0.25      0.41      0.31       848\n",
      "\n",
      "    accuracy                           0.87     12000\n",
      "   macro avg       0.60      0.66      0.62     12000\n",
      "weighted avg       0.90      0.87      0.88     12000\n",
      "\n",
      "f1_score:0.3087129588677576\n",
      "\n",
      " precision:0.24699221514508138\n",
      "\n",
      " recall:0.4115566037735849\n",
      "\n",
      " confussion matrix:\n",
      " [[10088  1064]\n",
      " [  499   349]]\n",
      "MultinomialNB(alpha=1.0, class_prior=None, fit_prior=True): \n",
      "\n",
      " Model Accuracy:0.84\n",
      "\n",
      " classification report :\n",
      "\n",
      "              precision    recall  f1-score   support\n",
      "\n",
      "           0       0.98      0.84      0.91     11152\n",
      "           1       0.27      0.77      0.40       848\n",
      "\n",
      "    accuracy                           0.84     12000\n",
      "   macro avg       0.63      0.81      0.65     12000\n",
      "weighted avg       0.93      0.84      0.87     12000\n",
      "\n",
      "f1_score:0.40332001229634185\n",
      "\n",
      " precision:0.2727650727650728\n",
      "\n",
      " recall:0.7735849056603774\n",
      "\n",
      " confussion matrix:\n",
      " [[9403 1749]\n",
      " [ 192  656]]\n",
      "SVC(C=1.0, break_ties=False, cache_size=200, class_weight=None, coef0=0.0,\n",
      "    decision_function_shape='ovr', degree=3, gamma='scale', kernel='rbf',\n",
      "    max_iter=-1, probability=False, random_state=None, shrinking=True,\n",
      "    tol=0.001, verbose=False): \n",
      "\n",
      " Model Accuracy:0.85\n",
      "\n",
      " classification report :\n",
      "\n",
      "              precision    recall  f1-score   support\n",
      "\n",
      "           0       0.98      0.86      0.91     11152\n",
      "           1       0.28      0.72      0.40       848\n",
      "\n",
      "    accuracy                           0.85     12000\n",
      "   macro avg       0.63      0.79      0.66     12000\n",
      "weighted avg       0.93      0.85      0.88     12000\n",
      "\n",
      "f1_score:0.4041278295605859\n",
      "\n",
      " precision:0.2815398886827458\n",
      "\n",
      " recall:0.7158018867924528\n",
      "\n",
      " confussion matrix:\n",
      " [[9603 1549]\n",
      " [ 241  607]]\n"
     ]
    }
   ],
   "source": [
    "algorithms=[XGBClassifier(), GradientBoostingClassifier(),RandomForestClassifier(), DecisionTreeClassifier(), MultinomialNB(),SVC()]\n",
    "for est in algorithms:\n",
    "    print(str(est)+': \\n')\n",
    "    cf=est\n",
    "    cf.fit(X_train, y_train)\n",
    "    pred = cf.predict(X_test)\n",
    "    get_model_results( y_test,pred)"
   ]
  },
  {
   "cell_type": "markdown",
   "metadata": {},
   "source": [
    "## ROC CURVE ANALYSIS"
   ]
  },
  {
   "cell_type": "code",
   "execution_count": 253,
   "metadata": {},
   "outputs": [],
   "source": [
    "def get_roccurve_metrics(X_train,y_train, X_test, est): \n",
    "    classifier = est\n",
    "    target = y_train\n",
    "    classifier = classifier.fit(X_train, target)\n",
    "    probs = classifier.predict_proba(X_test)\n",
    "    pred = probs[:,1]\n",
    "    fpr, tpr, threshold = metrics.roc_curve(y_test, pred)\n",
    "    roc_auc = metrics.auc(fpr, tpr)\n",
    "    return fpr, tpr, roc_auc"
   ]
  },
  {
   "cell_type": "code",
   "execution_count": 254,
   "metadata": {},
   "outputs": [
    {
     "data": {
      "image/png": "[encoded data removed]",
      "text/plain": [
       "<Figure size 432x288 with 1 Axes>"
      ]
     },
     "metadata": {
      "needs_background": "light"
     },
     "output_type": "display_data"
    }
   ],
   "source": [
    "\n",
    "fpr_xgb, tpr_xgb,roc_auc_xgb= get_roccurve_metrics(X_train,y_train, X_test, XGBClassifier())\n",
    "fpr_rf, tpr_rf,roc_auc_rf= get_roccurve_metrics(X_train,y_train, X_test, RandomForestClassifier())\n",
    "fpr_svc, tpr_svc,roc_auc_svc= get_roccurve_metrics(X_train,y_train, X_test, SVC(probability=True))\n",
    "fpr_nb, tpr_nb,roc_auc_nb= get_roccurve_metrics(X_train,y_train, X_test, MultinomialNB())\n",
    "\n",
    "\n",
    "\n",
    "\n",
    "plt.title('Receiver Operating Characteristic')\n",
    "plt.plot(fpr_xgb, tpr_xgb, 'b', label = 'AUC_xgb = %0.4f' % roc_auc_xgb)\n",
    "plt.plot(fpr_rf, tpr_rf, 'b', label = 'AUC_rf = %0.4f' % roc_auc_rf)\n",
    "plt.plot(fpr_svc, tpr_svc, 'b', label = 'AUC_svc = %0.4f' % roc_auc_svc)\n",
    "plt.plot(fpr_nb, tpr_nb, 'b', label = 'AUC_nb = %0.4f' % roc_auc_nb)\n",
    "plt.legend(loc = 'lower right')\n",
    "plt.plot([0, 1], [0, 1],'r--')\n",
    "plt.xlim([0, 1])\n",
    "plt.ylim([0, 1])\n",
    "plt.ylabel('True Positive Rate')\n",
    "plt.xlabel('False Positive Rate')\n",
    "plt.show()\n",
    "\n"
   ]
  },
  {
   "cell_type": "markdown",
   "metadata": {},
   "source": [
    "##  HYPERPARAMETER OPTIMIZATION USING GRIDSEARCH"
   ]
  },
  {
   "cell_type": "code",
   "execution_count": 185,
   "metadata": {},
   "outputs": [
    {
     "name": "stdout",
     "output_type": "stream",
     "text": [
      "Fitting 5 folds for each of 405 candidates, totalling 2025 fits\n"
     ]
    },
    {
     "name": "stderr",
     "output_type": "stream",
     "text": [
      "[Parallel(n_jobs=2)]: Using backend LokyBackend with 2 concurrent workers.\n",
      "[Parallel(n_jobs=2)]: Done  28 tasks      | elapsed:   28.4s\n",
      "[Parallel(n_jobs=2)]: Done 124 tasks      | elapsed:  2.5min\n",
      "[Parallel(n_jobs=2)]: Done 284 tasks      | elapsed:  5.6min\n",
      "[Parallel(n_jobs=2)]: Done 508 tasks      | elapsed:  9.9min\n",
      "[Parallel(n_jobs=2)]: Done 796 tasks      | elapsed: 15.9min\n",
      "[Parallel(n_jobs=2)]: Done 1148 tasks      | elapsed: 23.6min\n",
      "[Parallel(n_jobs=2)]: Done 1564 tasks      | elapsed: 33.3min\n",
      "[Parallel(n_jobs=2)]: Done 2025 out of 2025 | elapsed: 44.8min finished\n"
     ]
    },
    {
     "data": {
      "text/plain": [
       "GridSearchCV(cv=5, error_score=nan,\n",
       "             estimator=XGBClassifier(base_score=0.5, booster='gbtree',\n",
       "                                     colsample_bylevel=1, colsample_bytree=1,\n",
       "                                     gamma=0, learning_rate=0.1,\n",
       "                                     max_delta_step=0, max_depth=3,\n",
       "                                     min_child_weight=1, missing=None,\n",
       "                                     n_estimators=100, n_jobs=1, nthread=None,\n",
       "                                     objective='binary:logistic',\n",
       "                                     random_state=0, reg_alpha=0, reg_lambda=1,\n",
       "                                     scale_pos_weight=1, seed=None, silent=True,\n",
       "                                     subsample=1),\n",
       "             iid='deprecated', n_jobs=2,\n",
       "             param_grid={'colsample_bytree': [0.6, 0.8, 1.0],\n",
       "                         'gamma': [0.5, 1, 1.5, 2, 5], 'max_depth': [3, 4, 5],\n",
       "                         'min_child_weight': [1, 5, 10],\n",
       "                         'subsample': [0.6, 0.8, 1.0]},\n",
       "             pre_dispatch='2*n_jobs', refit=True, return_train_score=False,\n",
       "             scoring=None, verbose=3)"
      ]
     },
     "execution_count": 185,
     "metadata": {},
     "output_type": "execute_result"
    }
   ],
   "source": [
    "classifier.fit(X_train,y_train)\n",
    "\n",
    "parameters = {'min_child_weight': [1, 5, 10],'gamma': [0.5, 1, 1.5, 2, 5],'subsample': [0.6, 0.8, 1.0],'colsample_bytree': [0.6, 0.8, 1.0],'max_depth': [3, 4, 5]}\n",
    "\n",
    "grid_search_tune = GridSearchCV(classifier, parameters, cv=5, n_jobs=2, verbose=3)\n",
    "grid_search_tune.fit(X_train, y_train)"
   ]
  },
  {
   "cell_type": "code",
   "execution_count": 187,
   "metadata": {},
   "outputs": [
    {
     "name": "stdout",
     "output_type": "stream",
     "text": [
      "Best parameters set:\n",
      "XGBClassifier(base_score=0.5, booster='gbtree', colsample_bylevel=1,\n",
      "              colsample_bytree=1.0, gamma=1, learning_rate=0.1,\n",
      "              max_delta_step=0, max_depth=5, min_child_weight=1, missing=None,\n",
      "              n_estimators=100, n_jobs=1, nthread=None,\n",
      "              objective='binary:logistic', random_state=0, reg_alpha=0,\n",
      "              reg_lambda=1, scale_pos_weight=1, seed=None, silent=True,\n",
      "              subsample=0.6)\n"
     ]
    }
   ],
   "source": [
    "print(\"Best parameters set:\")\n",
    "print(grid_search_tune.best_estimator_)"
   ]
  },
  {
   "cell_type": "code",
   "execution_count": 188,
   "metadata": {},
   "outputs": [
    {
     "name": "stdout",
     "output_type": "stream",
     "text": [
      "              precision    recall  f1-score   support\n",
      "\n",
      "           0       0.98      0.86      0.92     11152\n",
      "           1       0.31      0.81      0.45       848\n",
      "\n",
      "    accuracy                           0.86     12000\n",
      "   macro avg       0.65      0.84      0.68     12000\n",
      "weighted avg       0.94      0.86      0.89     12000\n",
      "\n",
      "\n",
      " accuracy:0.8594166666666667\n",
      "f1_score:0.45030954708374066\n",
      "\n",
      " precision:0.31112111661413777\n",
      "\n",
      " recall:0.8148584905660378\n",
      "\n",
      " confusion matrix:\n",
      "[[9622 1530]\n",
      " [ 157  691]]\n"
     ]
    }
   ],
   "source": [
    "classifier=XGBClassifier(base_score=0.5, booster='gbtree', colsample_bylevel=1,\n",
    "              colsample_bytree=1.0, gamma=1, learning_rate=0.1,\n",
    "              max_delta_step=0, max_depth=5, min_child_weight=1, missing=None,\n",
    "              n_estimators=100, n_jobs=1, nthread=None,\n",
    "              objective='binary:logistic', random_state=0, reg_alpha=0,\n",
    "              reg_lambda=1, scale_pos_weight=1, seed=None, silent=True,\n",
    "              subsample=0.6)\n",
    "classifier.fit(X_train, y_train)\n",
    "pred = classifier.predict(X_test)\n",
    "print(classification_report(y_test, pred))\n",
    "print('\\n accuracy:'+str(accuracy_score(y_test, pred)))\n",
    "print('f1_score:'+str(f1_score(y_test, pred)))\n",
    "print('\\n precision:'+str(precision_score(y_test, pred)))\n",
    "print('\\n recall:'+str(recall_score(y_test, pred)))\n",
    "print('\\n confusion matrix:\\n'+str(confusion_matrix(y_test, pred)))\n"
   ]
  },
  {
   "cell_type": "markdown",
   "metadata": {},
   "source": [
    "#### CONCLUSION\n",
    "Data was actually highly unbalance, so I applied the resampling method on the trainset to balance the data. Before applying this method, I also got results on unbalance data to compare the results. The results I get over unbalanced data show that accuracy is very high but this is not important, because model tends to predict that label is 1 as 0. It is clearly visible in the confusion matrix. After balancing the data on the trainset, TN value decreased, FP value increased. at least we lowered the model's tendency to predict 0 because of the unbalacity of the data. At the same time, accuracy decreased, f1 score increased.This scenario is more acceptable than unbalanced data with high accuracy but model has still low precison and F1 score. (detailed descriptions above are available).  XGBoost has higher AUC and F1-Score, is the best among other classifiers. After selecting best algorithm, best parameters was chosen for XGBoost thanks to Gridsearch.\n",
    "\n",
    "\n",
    "As can be seen in correlation matrix, with the correlation rate of 0.46,\n",
    "the variable most associated with the customer's buying is the last contact duration. It is  followed by month March that has a very low correlation with a correlation rate of 0.12."
   ]
  },
  {
   "cell_type": "code",
   "execution_count": 256,
   "metadata": {},
   "outputs": [
    {
     "data": {
      "text/plain": [
       "y\n",
       "0    1249.752533\n",
       "1    1588.495856\n",
       "Name: balance, dtype: float64"
      ]
     },
     "execution_count": 256,
     "metadata": {},
     "output_type": "execute_result"
    }
   ],
   "source": [
    "data.groupby('y')['balance'].mean()"
   ]
  },
  {
   "cell_type": "code",
   "execution_count": 264,
   "metadata": {},
   "outputs": [],
   "source": [
    "cnt0, cnt1=data.y.value_counts()"
   ]
  },
  {
   "cell_type": "markdown",
   "metadata": {},
   "source": [
    "#### 61 percent of non-subscribers own homes, Percentages of subscribing customers who have home or not are very close to each other, there is no distinction."
   ]
  },
  {
   "cell_type": "code",
   "execution_count": 292,
   "metadata": {},
   "outputs": [
    {
     "data": {
      "text/html": [
       "<div>\n",
       "<style scoped>\n",
       "    .dataframe tbody tr th:only-of-type {\n",
       "        vertical-align: middle;\n",
       "    }\n",
       "\n",
       "    .dataframe tbody tr th {\n",
       "        vertical-align: top;\n",
       "    }\n",
       "\n",
       "    .dataframe thead th {\n",
       "        text-align: right;\n",
       "    }\n",
       "</style>\n",
       "<table border=\"1\" class=\"dataframe\">\n",
       "  <thead>\n",
       "    <tr style=\"text-align: right;\">\n",
       "      <th></th>\n",
       "      <th>housing</th>\n",
       "      <th>y</th>\n",
       "      <th>percentage</th>\n",
       "    </tr>\n",
       "  </thead>\n",
       "  <tbody>\n",
       "    <tr>\n",
       "      <th>0</th>\n",
       "      <td>no</td>\n",
       "      <td>0</td>\n",
       "      <td>0.391791</td>\n",
       "    </tr>\n",
       "    <tr>\n",
       "      <th>1</th>\n",
       "      <td>no</td>\n",
       "      <td>1</td>\n",
       "      <td>0.494475</td>\n",
       "    </tr>\n",
       "    <tr>\n",
       "      <th>2</th>\n",
       "      <td>yes</td>\n",
       "      <td>0</td>\n",
       "      <td>0.608209</td>\n",
       "    </tr>\n",
       "    <tr>\n",
       "      <th>3</th>\n",
       "      <td>yes</td>\n",
       "      <td>1</td>\n",
       "      <td>0.505525</td>\n",
       "    </tr>\n",
       "  </tbody>\n",
       "</table>\n",
       "</div>"
      ],
      "text/plain": [
       "  housing  y  percentage\n",
       "0      no  0    0.391791\n",
       "1      no  1    0.494475\n",
       "2     yes  0    0.608209\n",
       "3     yes  1    0.505525"
      ]
     },
     "execution_count": 292,
     "metadata": {},
     "output_type": "execute_result"
    }
   ],
   "source": [
    "analysis_housing = pd.DataFrame(data=data.groupby(['housing','y'])['campaign'].count()).reset_index()\n",
    "analysis_housing['percentage']= np.where (analysis_housing.y==0, analysis_housing.campaign/cnt0, analysis_housing.campaign/cnt1)\n",
    "analysis_housing[['housing','y','percentage']]"
   ]
  },
  {
   "cell_type": "markdown",
   "metadata": {},
   "source": [
    "#### The average age of subscribers and non-subscribers is very close"
   ]
  },
  {
   "cell_type": "code",
   "execution_count": 290,
   "metadata": {},
   "outputs": [
    {
     "data": {
      "text/plain": [
       "y\n",
       "0    40.599208\n",
       "1    39.844959\n",
       "Name: age, dtype: float64"
      ]
     },
     "execution_count": 290,
     "metadata": {},
     "output_type": "execute_result"
    }
   ],
   "source": [
    "data.groupby('y')['age'].mean()"
   ]
  },
  {
   "cell_type": "markdown",
   "metadata": {},
   "source": [
    "#### There is a distinction according to the duration.The last contact duration of subscribed customers is almost 3 times the last contact duration of non-subscribers."
   ]
  },
  {
   "cell_type": "code",
   "execution_count": 289,
   "metadata": {},
   "outputs": [
    {
     "data": {
      "text/plain": [
       "y\n",
       "0    221.408042\n",
       "1    682.958564\n",
       "Name: duration, dtype: float64"
      ]
     },
     "execution_count": 289,
     "metadata": {},
     "output_type": "execute_result"
    }
   ],
   "source": [
    "data.groupby('y')['duration'].mean()"
   ]
  },
  {
   "cell_type": "markdown",
   "metadata": {},
   "source": [
    "#### The majority of subscribed and unsubscribed customers do not have loan"
   ]
  },
  {
   "cell_type": "code",
   "execution_count": 295,
   "metadata": {},
   "outputs": [
    {
     "data": {
      "text/html": [
       "<div>\n",
       "<style scoped>\n",
       "    .dataframe tbody tr th:only-of-type {\n",
       "        vertical-align: middle;\n",
       "    }\n",
       "\n",
       "    .dataframe tbody tr th {\n",
       "        vertical-align: top;\n",
       "    }\n",
       "\n",
       "    .dataframe thead th {\n",
       "        text-align: right;\n",
       "    }\n",
       "</style>\n",
       "<table border=\"1\" class=\"dataframe\">\n",
       "  <thead>\n",
       "    <tr style=\"text-align: right;\">\n",
       "      <th></th>\n",
       "      <th>loan</th>\n",
       "      <th>y</th>\n",
       "      <th>percentage</th>\n",
       "    </tr>\n",
       "  </thead>\n",
       "  <tbody>\n",
       "    <tr>\n",
       "      <th>0</th>\n",
       "      <td>no</td>\n",
       "      <td>0</td>\n",
       "      <td>0.823469</td>\n",
       "    </tr>\n",
       "    <tr>\n",
       "      <th>1</th>\n",
       "      <td>no</td>\n",
       "      <td>1</td>\n",
       "      <td>0.868785</td>\n",
       "    </tr>\n",
       "    <tr>\n",
       "      <th>2</th>\n",
       "      <td>yes</td>\n",
       "      <td>0</td>\n",
       "      <td>0.176531</td>\n",
       "    </tr>\n",
       "    <tr>\n",
       "      <th>3</th>\n",
       "      <td>yes</td>\n",
       "      <td>1</td>\n",
       "      <td>0.131215</td>\n",
       "    </tr>\n",
       "  </tbody>\n",
       "</table>\n",
       "</div>"
      ],
      "text/plain": [
       "  loan  y  percentage\n",
       "0   no  0    0.823469\n",
       "1   no  1    0.868785\n",
       "2  yes  0    0.176531\n",
       "3  yes  1    0.131215"
      ]
     },
     "execution_count": 295,
     "metadata": {},
     "output_type": "execute_result"
    }
   ],
   "source": [
    "analysis_loan = pd.DataFrame(data=data.groupby(['loan','y'])['campaign'].count()).reset_index()\n",
    "analysis_loan['percentage']= np.where (analysis_loan.y==0, analysis_loan.campaign/cnt0, analysis_loan.campaign/cnt1)\n",
    "analysis_loan[['loan','y','percentage']]\n",
    " "
   ]
  },
  {
   "cell_type": "markdown",
   "metadata": {},
   "source": [
    "#### Job has no pattern on subscribing or not"
   ]
  },
  {
   "cell_type": "code",
   "execution_count": 293,
   "metadata": {},
   "outputs": [
    {
     "data": {
      "text/html": [
       "<div>\n",
       "<style scoped>\n",
       "    .dataframe tbody tr th:only-of-type {\n",
       "        vertical-align: middle;\n",
       "    }\n",
       "\n",
       "    .dataframe tbody tr th {\n",
       "        vertical-align: top;\n",
       "    }\n",
       "\n",
       "    .dataframe thead th {\n",
       "        text-align: right;\n",
       "    }\n",
       "</style>\n",
       "<table border=\"1\" class=\"dataframe\">\n",
       "  <thead>\n",
       "    <tr style=\"text-align: right;\">\n",
       "      <th></th>\n",
       "      <th>job</th>\n",
       "      <th>y</th>\n",
       "      <th>percentage</th>\n",
       "    </tr>\n",
       "  </thead>\n",
       "  <tbody>\n",
       "    <tr>\n",
       "      <th>0</th>\n",
       "      <td>admin</td>\n",
       "      <td>0</td>\n",
       "      <td>0.111363</td>\n",
       "    </tr>\n",
       "    <tr>\n",
       "      <th>1</th>\n",
       "      <td>admin</td>\n",
       "      <td>1</td>\n",
       "      <td>0.121202</td>\n",
       "    </tr>\n",
       "    <tr>\n",
       "      <th>2</th>\n",
       "      <td>blue-collar</td>\n",
       "      <td>0</td>\n",
       "      <td>0.238465</td>\n",
       "    </tr>\n",
       "    <tr>\n",
       "      <th>3</th>\n",
       "      <td>blue-collar</td>\n",
       "      <td>1</td>\n",
       "      <td>0.184738</td>\n",
       "    </tr>\n",
       "    <tr>\n",
       "      <th>4</th>\n",
       "      <td>entrepreneur</td>\n",
       "      <td>0</td>\n",
       "      <td>0.035495</td>\n",
       "    </tr>\n",
       "    <tr>\n",
       "      <th>5</th>\n",
       "      <td>entrepreneur</td>\n",
       "      <td>1</td>\n",
       "      <td>0.030387</td>\n",
       "    </tr>\n",
       "    <tr>\n",
       "      <th>6</th>\n",
       "      <td>housemaid</td>\n",
       "      <td>0</td>\n",
       "      <td>0.027868</td>\n",
       "    </tr>\n",
       "    <tr>\n",
       "      <th>7</th>\n",
       "      <td>housemaid</td>\n",
       "      <td>1</td>\n",
       "      <td>0.018301</td>\n",
       "    </tr>\n",
       "    <tr>\n",
       "      <th>8</th>\n",
       "      <td>management</td>\n",
       "      <td>0</td>\n",
       "      <td>0.201865</td>\n",
       "    </tr>\n",
       "    <tr>\n",
       "      <th>9</th>\n",
       "      <td>management</td>\n",
       "      <td>1</td>\n",
       "      <td>0.233425</td>\n",
       "    </tr>\n",
       "    <tr>\n",
       "      <th>10</th>\n",
       "      <td>retired</td>\n",
       "      <td>0</td>\n",
       "      <td>0.034659</td>\n",
       "    </tr>\n",
       "    <tr>\n",
       "      <th>11</th>\n",
       "      <td>retired</td>\n",
       "      <td>1</td>\n",
       "      <td>0.052141</td>\n",
       "    </tr>\n",
       "    <tr>\n",
       "      <th>12</th>\n",
       "      <td>self-employed</td>\n",
       "      <td>0</td>\n",
       "      <td>0.035091</td>\n",
       "    </tr>\n",
       "    <tr>\n",
       "      <th>13</th>\n",
       "      <td>self-employed</td>\n",
       "      <td>1</td>\n",
       "      <td>0.038674</td>\n",
       "    </tr>\n",
       "    <tr>\n",
       "      <th>14</th>\n",
       "      <td>services</td>\n",
       "      <td>0</td>\n",
       "      <td>0.098965</td>\n",
       "    </tr>\n",
       "    <tr>\n",
       "      <th>15</th>\n",
       "      <td>services</td>\n",
       "      <td>1</td>\n",
       "      <td>0.082182</td>\n",
       "    </tr>\n",
       "    <tr>\n",
       "      <th>16</th>\n",
       "      <td>student</td>\n",
       "      <td>0</td>\n",
       "      <td>0.011912</td>\n",
       "    </tr>\n",
       "    <tr>\n",
       "      <th>17</th>\n",
       "      <td>student</td>\n",
       "      <td>1</td>\n",
       "      <td>0.028315</td>\n",
       "    </tr>\n",
       "    <tr>\n",
       "      <th>18</th>\n",
       "      <td>technician</td>\n",
       "      <td>0</td>\n",
       "      <td>0.171275</td>\n",
       "    </tr>\n",
       "    <tr>\n",
       "      <th>19</th>\n",
       "      <td>technician</td>\n",
       "      <td>1</td>\n",
       "      <td>0.171616</td>\n",
       "    </tr>\n",
       "    <tr>\n",
       "      <th>20</th>\n",
       "      <td>unemployed</td>\n",
       "      <td>0</td>\n",
       "      <td>0.027167</td>\n",
       "    </tr>\n",
       "    <tr>\n",
       "      <th>21</th>\n",
       "      <td>unemployed</td>\n",
       "      <td>1</td>\n",
       "      <td>0.033149</td>\n",
       "    </tr>\n",
       "    <tr>\n",
       "      <th>22</th>\n",
       "      <td>unknown</td>\n",
       "      <td>0</td>\n",
       "      <td>0.005875</td>\n",
       "    </tr>\n",
       "    <tr>\n",
       "      <th>23</th>\n",
       "      <td>unknown</td>\n",
       "      <td>1</td>\n",
       "      <td>0.005870</td>\n",
       "    </tr>\n",
       "  </tbody>\n",
       "</table>\n",
       "</div>"
      ],
      "text/plain": [
       "              job  y  percentage\n",
       "0           admin  0    0.111363\n",
       "1           admin  1    0.121202\n",
       "2     blue-collar  0    0.238465\n",
       "3     blue-collar  1    0.184738\n",
       "4    entrepreneur  0    0.035495\n",
       "5    entrepreneur  1    0.030387\n",
       "6       housemaid  0    0.027868\n",
       "7       housemaid  1    0.018301\n",
       "8      management  0    0.201865\n",
       "9      management  1    0.233425\n",
       "10        retired  0    0.034659\n",
       "11        retired  1    0.052141\n",
       "12  self-employed  0    0.035091\n",
       "13  self-employed  1    0.038674\n",
       "14       services  0    0.098965\n",
       "15       services  1    0.082182\n",
       "16        student  0    0.011912\n",
       "17        student  1    0.028315\n",
       "18     technician  0    0.171275\n",
       "19     technician  1    0.171616\n",
       "20     unemployed  0    0.027167\n",
       "21     unemployed  1    0.033149\n",
       "22        unknown  0    0.005875\n",
       "23        unknown  1    0.005870"
      ]
     },
     "execution_count": 293,
     "metadata": {},
     "output_type": "execute_result"
    }
   ],
   "source": [
    "analysis_job = pd.DataFrame(data=data.groupby(['job','y'])['campaign'].count()).reset_index()\n",
    " \n",
    "analysis_job['percentage']= np.where (analysis_job.y==0, analysis_job.campaign/cnt0, analysis_job.campaign/cnt1)\n",
    "analysis_job[['job','y','percentage']]\n",
    " "
   ]
  },
  {
   "cell_type": "code",
   "execution_count": 296,
   "metadata": {},
   "outputs": [
    {
     "data": {
      "text/html": [
       "<div>\n",
       "<style scoped>\n",
       "    .dataframe tbody tr th:only-of-type {\n",
       "        vertical-align: middle;\n",
       "    }\n",
       "\n",
       "    .dataframe tbody tr th {\n",
       "        vertical-align: top;\n",
       "    }\n",
       "\n",
       "    .dataframe thead th {\n",
       "        text-align: right;\n",
       "    }\n",
       "</style>\n",
       "<table border=\"1\" class=\"dataframe\">\n",
       "  <thead>\n",
       "    <tr style=\"text-align: right;\">\n",
       "      <th></th>\n",
       "      <th>education</th>\n",
       "      <th>y</th>\n",
       "      <th>percentage</th>\n",
       "    </tr>\n",
       "  </thead>\n",
       "  <tbody>\n",
       "    <tr>\n",
       "      <th>0</th>\n",
       "      <td>primary</td>\n",
       "      <td>0</td>\n",
       "      <td>0.159471</td>\n",
       "    </tr>\n",
       "    <tr>\n",
       "      <th>1</th>\n",
       "      <td>primary</td>\n",
       "      <td>1</td>\n",
       "      <td>0.121892</td>\n",
       "    </tr>\n",
       "    <tr>\n",
       "      <th>2</th>\n",
       "      <td>secondary</td>\n",
       "      <td>0</td>\n",
       "      <td>0.527571</td>\n",
       "    </tr>\n",
       "    <tr>\n",
       "      <th>3</th>\n",
       "      <td>secondary</td>\n",
       "      <td>1</td>\n",
       "      <td>0.489641</td>\n",
       "    </tr>\n",
       "    <tr>\n",
       "      <th>4</th>\n",
       "      <td>tertiary</td>\n",
       "      <td>0</td>\n",
       "      <td>0.274283</td>\n",
       "    </tr>\n",
       "    <tr>\n",
       "      <th>5</th>\n",
       "      <td>tertiary</td>\n",
       "      <td>1</td>\n",
       "      <td>0.355318</td>\n",
       "    </tr>\n",
       "    <tr>\n",
       "      <th>6</th>\n",
       "      <td>unknown</td>\n",
       "      <td>0</td>\n",
       "      <td>0.038675</td>\n",
       "    </tr>\n",
       "    <tr>\n",
       "      <th>7</th>\n",
       "      <td>unknown</td>\n",
       "      <td>1</td>\n",
       "      <td>0.033149</td>\n",
       "    </tr>\n",
       "  </tbody>\n",
       "</table>\n",
       "</div>"
      ],
      "text/plain": [
       "   education  y  percentage\n",
       "0    primary  0    0.159471\n",
       "1    primary  1    0.121892\n",
       "2  secondary  0    0.527571\n",
       "3  secondary  1    0.489641\n",
       "4   tertiary  0    0.274283\n",
       "5   tertiary  1    0.355318\n",
       "6    unknown  0    0.038675\n",
       "7    unknown  1    0.033149"
      ]
     },
     "execution_count": 296,
     "metadata": {},
     "output_type": "execute_result"
    }
   ],
   "source": [
    "analysis_edu = pd.DataFrame(data=data.groupby(['education','y'])['campaign'].count()).reset_index()\n",
    "analysis_edu['percentage']= np.where (analysis_edu.y==0, analysis_edu.campaign/cnt0, analysis_edu.campaign/cnt1)\n",
    "analysis_edu[['education','y','percentage']]"
   ]
  },
  {
   "cell_type": "code",
   "execution_count": null,
   "metadata": {},
   "outputs": [],
   "source": []
  },
  {
   "cell_type": "code",
   "execution_count": null,
   "metadata": {},
   "outputs": [],
   "source": []
  }
 ],
 "metadata": {
  "kernelspec": {
   "display_name": "Python 3",
   "language": "python",
   "name": "python3"
  },
  "language_info": {
   "codemirror_mode": {
    "name": "ipython",
    "version": 3
   },
   "file_extension": ".py",
   "mimetype": "text/x-python",
   "name": "python",
   "nbconvert_exporter": "python",
   "pygments_lexer": "ipython3",
   "version": "3.5.2"
  }
 },
 "nbformat": 4,
 "nbformat_minor": 2
}
